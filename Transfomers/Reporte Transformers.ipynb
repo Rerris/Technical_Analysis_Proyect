{
 "cells": [
  {
   "cell_type": "markdown",
   "metadata": {},
   "source": [
    "## Reporte"
   ]
  },
  {
   "cell_type": "markdown",
   "metadata": {},
   "source": [
    "En la creacion de modelo con transformers se le dio como inputs valores de RSI con ventanas desde \n",
    " 13 a la 48 y EMA´s desde 50 a 65. En este caso se utilizaron 15 epochs debido a la limitante del tiempo, sin embargo, lo mejor sería subir este número."
   ]
  },
  {
   "cell_type": "markdown",
   "metadata": {},
   "source": [
    "Este modelo obtuvo un accuracy de {Poner el accuracy obtenido} con data de 5 min   "
   ]
  }
 ],
 "metadata": {
  "language_info": {
   "name": "python"
  }
 },
 "nbformat": 4,
 "nbformat_minor": 2
}
